{
 "cells": [
  {
   "cell_type": "code",
   "execution_count": 21,
   "metadata": {},
   "outputs": [],
   "source": [
    "import tensorflow as tf\n",
    "from flask import Flask, render_template, request\n",
    "from tensorflow.keras.preprocessing.image import load_img, img_to_array\n",
    "from tensorflow.keras.applications.resnet50 import preprocess_input, decode_predictions\n",
    "from tensorflow.keras.models import load_model\n",
    "import numpy as np"
   ]
  },
  {
   "cell_type": "code",
   "execution_count": 22,
   "metadata": {},
   "outputs": [],
   "source": [
    "app = Flask(__name__)"
   ]
  },
  {
   "cell_type": "code",
   "execution_count": 23,
   "metadata": {},
   "outputs": [
    {
     "name": "stderr",
     "output_type": "stream",
     "text": [
      "WARNING:absl:Skipping variable loading for optimizer 'Adam', because it has 909 variables whereas the saved optimizer has 1 variables. \n"
     ]
    }
   ],
   "source": [
    "# model = tensoflow.keras.models.load_model('thewholeentiremodel.keras')\n",
    "model = tf.keras.models.load_model('model.keras')"
   ]
  },
  {
   "cell_type": "code",
   "execution_count": 24,
   "metadata": {},
   "outputs": [
    {
     "data": {
      "text/plain": [
       "'2.15.0'"
      ]
     },
     "execution_count": 24,
     "metadata": {},
     "output_type": "execute_result"
    }
   ],
   "source": [
    "tf.__version__"
   ]
  },
  {
   "cell_type": "code",
   "execution_count": 41,
   "metadata": {},
   "outputs": [],
   "source": [
    "def predict():\n",
    "    # imagefile = request.files['imagefile']\n",
    "    image_path = 'images\\\\00392.jpg'\n",
    "    # \"./images/\" + imagefile.filename\n",
    "    # imagefile.save(image_path)\n",
    "\n",
    "    image = load_img(image_path, target_size=(224, 224))\n",
    "    image = img_to_array(image)\n",
    "    image = image.reshape((1, image.shape[0], image.shape[1], image.shape[2]))\n",
    "    # image = preprocess_input(image)\n",
    "    \n",
    "    yhat = model.predict(image)\n",
    "    # label = decode_predictions(yhat)\n",
    "    global label\n",
    "    label = yhat\n",
    "    # label = label[0][0]\n",
    "    # classification = '%s (%.2f%%)' % (label[1], label[2] * 100)\n",
    "\n",
    "    # return render_template('index.html', prediction=classification)\n",
    "    # print(classification)\n",
    "    print(label)"
   ]
  },
  {
   "cell_type": "code",
   "execution_count": 42,
   "metadata": {},
   "outputs": [
    {
     "name": "stdout",
     "output_type": "stream",
     "text": [
      "Found 16139 files belonging to 196 classes.\n",
      "Class Names Dictionary: {0: 'AM General Hummer SUV 2000', 1: 'Acura Integra Type R 2001', 2: 'Acura RL Sedan 2012', 3: 'Acura TL Sedan 2012', 4: 'Acura TL Type-S 2008', 5: 'Acura TSX Sedan 2012', 6: 'Acura ZDX Hatchback 2012', 7: 'Aston Martin V8 Vantage Convertible 2012', 8: 'Aston Martin V8 Vantage Coupe 2012', 9: 'Aston Martin Virage Convertible 2012', 10: 'Aston Martin Virage Coupe 2012', 11: 'Audi 100 Sedan 1994', 12: 'Audi 100 Wagon 1994', 13: 'Audi A5 Coupe 2012', 14: 'Audi R8 Coupe 2012', 15: 'Audi RS 4 Convertible 2008', 16: 'Audi S4 Sedan 2007', 17: 'Audi S4 Sedan 2012', 18: 'Audi S5 Convertible 2012', 19: 'Audi S5 Coupe 2012', 20: 'Audi S6 Sedan 2011', 21: 'Audi TT Hatchback 2011', 22: 'Audi TT RS Coupe 2012', 23: 'Audi TTS Coupe 2012', 24: 'Audi V8 Sedan 1994', 25: 'BMW 1 Series Convertible 2012', 26: 'BMW 1 Series Coupe 2012', 27: 'BMW 3 Series Sedan 2012', 28: 'BMW 3 Series Wagon 2012', 29: 'BMW 6 Series Convertible 2007', 30: 'BMW ActiveHybrid 5 Sedan 2012', 31: 'BMW M3 Coupe 2012', 32: 'BMW M5 Sedan 2010', 33: 'BMW M6 Convertible 2010', 34: 'BMW X3 SUV 2012', 35: 'BMW X5 SUV 2007', 36: 'BMW X6 SUV 2012', 37: 'BMW Z4 Convertible 2012', 38: 'Bentley Arnage Sedan 2009', 39: 'Bentley Continental Flying Spur Sedan 2007', 40: 'Bentley Continental GT Coupe 2007', 41: 'Bentley Continental GT Coupe 2012', 42: 'Bentley Continental Supersports Conv. Convertible 2012', 43: 'Bentley Mulsanne Sedan 2011', 44: 'Bugatti Veyron 16.4 Convertible 2009', 45: 'Bugatti Veyron 16.4 Coupe 2009', 46: 'Buick Enclave SUV 2012', 47: 'Buick Rainier SUV 2007', 48: 'Buick Regal GS 2012', 49: 'Buick Verano Sedan 2012', 50: 'Cadillac CTS-V Sedan 2012', 51: 'Cadillac Escalade EXT Crew Cab 2007', 52: 'Cadillac SRX SUV 2012', 53: 'Chevrolet Avalanche Crew Cab 2012', 54: 'Chevrolet Camaro Convertible 2012', 55: 'Chevrolet Cobalt SS 2010', 56: 'Chevrolet Corvette Convertible 2012', 57: 'Chevrolet Corvette Ron Fellows Edition Z06 2007', 58: 'Chevrolet Corvette ZR1 2012', 59: 'Chevrolet Express Cargo Van 2007', 60: 'Chevrolet Express Van 2007', 61: 'Chevrolet HHR SS 2010', 62: 'Chevrolet Impala Sedan 2007', 63: 'Chevrolet Malibu Hybrid Sedan 2010', 64: 'Chevrolet Malibu Sedan 2007', 65: 'Chevrolet Monte Carlo Coupe 2007', 66: 'Chevrolet Silverado 1500 Classic Extended Cab 2007', 67: 'Chevrolet Silverado 1500 Extended Cab 2012', 68: 'Chevrolet Silverado 1500 Hybrid Crew Cab 2012', 69: 'Chevrolet Silverado 1500 Regular Cab 2012', 70: 'Chevrolet Silverado 2500HD Regular Cab 2012', 71: 'Chevrolet Sonic Sedan 2012', 72: 'Chevrolet Tahoe Hybrid SUV 2012', 73: 'Chevrolet TrailBlazer SS 2009', 74: 'Chevrolet Traverse SUV 2012', 75: 'Chrysler 300 SRT-8 2010', 76: 'Chrysler Aspen SUV 2009', 77: 'Chrysler Crossfire Convertible 2008', 78: 'Chrysler PT Cruiser Convertible 2008', 79: 'Chrysler Sebring Convertible 2010', 80: 'Chrysler Town and Country Minivan 2012', 81: 'Daewoo Nubira Wagon 2002', 82: 'Dodge Caliber Wagon 2007', 83: 'Dodge Caliber Wagon 2012', 84: 'Dodge Caravan Minivan 1997', 85: 'Dodge Challenger SRT8 2011', 86: 'Dodge Charger SRT-8 2009', 87: 'Dodge Charger Sedan 2012', 88: 'Dodge Dakota Club Cab 2007', 89: 'Dodge Dakota Crew Cab 2010', 90: 'Dodge Durango SUV 2007', 91: 'Dodge Durango SUV 2012', 92: 'Dodge Journey SUV 2012', 93: 'Dodge Magnum Wagon 2008', 94: 'Dodge Ram Pickup 3500 Crew Cab 2010', 95: 'Dodge Ram Pickup 3500 Quad Cab 2009', 96: 'Dodge Sprinter Cargo Van 2009', 97: 'Eagle Talon Hatchback 1998', 98: 'FIAT 500 Abarth 2012', 99: 'FIAT 500 Convertible 2012', 100: 'Ferrari 458 Italia Convertible 2012', 101: 'Ferrari 458 Italia Coupe 2012', 102: 'Ferrari California Convertible 2012', 103: 'Ferrari FF Coupe 2012', 104: 'Fisker Karma Sedan 2012', 105: 'Ford E-Series Wagon Van 2012', 106: 'Ford Edge SUV 2012', 107: 'Ford Expedition EL SUV 2009', 108: 'Ford F-150 Regular Cab 2007', 109: 'Ford F-150 Regular Cab 2012', 110: 'Ford F-450 Super Duty Crew Cab 2012', 111: 'Ford Fiesta Sedan 2012', 112: 'Ford Focus Sedan 2007', 113: 'Ford Freestar Minivan 2007', 114: 'Ford GT Coupe 2006', 115: 'Ford Mustang Convertible 2007', 116: 'Ford Ranger SuperCab 2011', 117: 'GMC Acadia SUV 2012', 118: 'GMC Canyon Extended Cab 2012', 119: 'GMC Savana Van 2012', 120: 'GMC Terrain SUV 2012', 121: 'GMC Yukon Hybrid SUV 2012', 122: 'Geo Metro Convertible 1993', 123: 'HUMMER H2 SUT Crew Cab 2009', 124: 'HUMMER H3T Crew Cab 2010', 125: 'Honda Accord Coupe 2012', 126: 'Honda Accord Sedan 2012', 127: 'Honda Odyssey Minivan 2007', 128: 'Honda Odyssey Minivan 2012', 129: 'Hyundai Accent Sedan 2012', 130: 'Hyundai Azera Sedan 2012', 131: 'Hyundai Elantra Sedan 2007', 132: 'Hyundai Elantra Touring Hatchback 2012', 133: 'Hyundai Genesis Sedan 2012', 134: 'Hyundai Santa Fe SUV 2012', 135: 'Hyundai Sonata Hybrid Sedan 2012', 136: 'Hyundai Sonata Sedan 2012', 137: 'Hyundai Tucson SUV 2012', 138: 'Hyundai Veloster Hatchback 2012', 139: 'Hyundai Veracruz SUV 2012', 140: 'Infiniti G Coupe IPL 2012', 141: 'Infiniti QX56 SUV 2011', 142: 'Isuzu Ascender SUV 2008', 143: 'Jaguar XK XKR 2012', 144: 'Jeep Compass SUV 2012', 145: 'Jeep Grand Cherokee SUV 2012', 146: 'Jeep Liberty SUV 2012', 147: 'Jeep Patriot SUV 2012', 148: 'Jeep Wrangler SUV 2012', 149: 'Lamborghini Aventador Coupe 2012', 150: 'Lamborghini Diablo Coupe 2001', 151: 'Lamborghini Gallardo LP 570-4 Superleggera 2012', 152: 'Lamborghini Reventon Coupe 2008', 153: 'Land Rover LR2 SUV 2012', 154: 'Land Rover Range Rover SUV 2012', 155: 'Lincoln Town Car Sedan 2011', 156: 'MINI Cooper Roadster Convertible 2012', 157: 'Maybach Landaulet Convertible 2012', 158: 'Mazda Tribute SUV 2011', 159: 'McLaren MP4-12C Coupe 2012', 160: 'Mercedes-Benz 300-Class Convertible 1993', 161: 'Mercedes-Benz C-Class Sedan 2012', 162: 'Mercedes-Benz E-Class Sedan 2012', 163: 'Mercedes-Benz S-Class Sedan 2012', 164: 'Mercedes-Benz SL-Class Coupe 2009', 165: 'Mercedes-Benz Sprinter Van 2012', 166: 'Mitsubishi Lancer Sedan 2012', 167: 'Nissan 240SX Coupe 1998', 168: 'Nissan Juke Hatchback 2012', 169: 'Nissan Leaf Hatchback 2012', 170: 'Nissan NV Passenger Van 2012', 171: 'Plymouth Neon Coupe 1999', 172: 'Porsche Panamera Sedan 2012', 173: 'Ram C-V Cargo Van Minivan 2012', 174: 'Rolls-Royce Ghost Sedan 2012', 175: 'Rolls-Royce Phantom Drophead Coupe Convertible 2012', 176: 'Rolls-Royce Phantom Sedan 2012', 177: 'Scion xD Hatchback 2012', 178: 'Spyker C8 Convertible 2009', 179: 'Spyker C8 Coupe 2009', 180: 'Suzuki Aerio Sedan 2007', 181: 'Suzuki Kizashi Sedan 2012', 182: 'Suzuki SX4 Hatchback 2012', 183: 'Suzuki SX4 Sedan 2012', 184: 'Tesla Model S Sedan 2012', 185: 'Toyota 4Runner SUV 2012', 186: 'Toyota Camry Sedan 2012', 187: 'Toyota Corolla Sedan 2012', 188: 'Toyota Sequoia SUV 2012', 189: 'Volkswagen Beetle Hatchback 2012', 190: 'Volkswagen Golf Hatchback 1991', 191: 'Volkswagen Golf Hatchback 2012', 192: 'Volvo 240 Sedan 1993', 193: 'Volvo C30 Hatchback 2012', 194: 'Volvo XC90 SUV 2007', 195: 'smart fortwo Convertible 2012'}\n"
     ]
    }
   ],
   "source": [
    "import tensorflow as tf\n",
    "\n",
    "train_ds = tf.keras.utils.image_dataset_from_directory(\n",
    "    r\"C:\\Users\\poyni\\Desktop\\AI\\picture\\mixed\")\n",
    "\n",
    "class_names = train_ds.class_names\n",
    "num_classes = len(class_names)\n",
    "# print(\"Class Names:\", class_names)\n",
    "\n",
    "# Create a dictionary mapping class indices to class names\n",
    "class_names_dict = {i: class_name for i, class_name in enumerate(class_names)}\n",
    "print(\"Class Names Dictionary:\", class_names_dict)"
   ]
  },
  {
   "cell_type": "code",
   "execution_count": 43,
   "metadata": {},
   "outputs": [
    {
     "name": "stdout",
     "output_type": "stream",
     "text": [
      "1/1 [==============================] - 0s 110ms/step\n",
      "[[6.43708512e-16 1.81319848e-09 3.51339877e-05 1.47342444e-05\n",
      "  9.99943137e-01 3.62089025e-09 7.03648384e-09 4.12338393e-11\n",
      "  5.44379697e-09 8.82535323e-10 8.57363486e-11 3.49490619e-12\n",
      "  3.86989121e-11 1.02538666e-09 6.02510738e-07 9.10792761e-11\n",
      "  5.35587539e-08 4.24031810e-10 1.37545010e-12 1.11916130e-08\n",
      "  8.38835135e-09 4.31235256e-11 1.23693842e-11 4.21008508e-08\n",
      "  5.35873646e-12 2.83405352e-12 2.55195587e-10 7.25485894e-10\n",
      "  1.40085135e-08 1.61100966e-10 6.19958598e-11 5.23445909e-09\n",
      "  6.89542312e-10 2.57173560e-10 2.45647308e-10 1.80123061e-09\n",
      "  4.13765966e-11 1.10230354e-13 1.23838743e-12 2.59949360e-08\n",
      "  3.13355919e-09 3.30813606e-11 5.76513257e-14 1.42277440e-10\n",
      "  8.62065801e-12 3.29712008e-10 4.28549939e-11 2.34573472e-11\n",
      "  7.78390574e-10 4.32400865e-10 1.09026033e-08 1.78286708e-11\n",
      "  4.09854728e-09 3.57284840e-12 4.89563078e-11 1.06270939e-08\n",
      "  1.16663979e-11 5.08606742e-12 1.01836217e-09 3.62630146e-13\n",
      "  9.40157587e-12 4.90659466e-12 3.18868931e-10 8.74035455e-10\n",
      "  2.41372391e-11 1.71735820e-11 1.95622788e-13 6.44568822e-15\n",
      "  4.54196388e-15 1.88718653e-14 2.40605316e-14 4.83809259e-09\n",
      "  6.81927570e-10 1.36303038e-10 1.01119302e-09 1.49025951e-07\n",
      "  1.62089335e-11 7.78664080e-13 3.75413155e-12 4.58986018e-12\n",
      "  1.49286677e-11 6.46587905e-12 4.38341854e-12 1.72574784e-11\n",
      "  1.98945873e-08 7.37130981e-11 2.23238295e-09 1.12005273e-10\n",
      "  3.47168888e-14 1.19464185e-13 5.10971473e-12 5.31952427e-10\n",
      "  3.54262147e-10 7.42729229e-12 1.19042038e-13 1.19415437e-13\n",
      "  8.58429132e-14 1.45877976e-07 9.34501226e-11 2.09486109e-11\n",
      "  4.93210073e-14 3.60018577e-11 1.22317098e-12 2.91934597e-12\n",
      "  7.09821047e-12 1.09876443e-13 3.04016140e-07 2.32700074e-11\n",
      "  2.82998082e-12 1.48541810e-13 2.18869546e-13 4.43002107e-10\n",
      "  4.28051949e-09 3.65582876e-14 1.11521114e-11 8.98597463e-09\n",
      "  3.06195770e-13 9.13578171e-11 1.58592046e-11 3.49251905e-13\n",
      "  9.77575573e-12 3.32701011e-12 4.70832900e-13 4.51772463e-13\n",
      "  1.86217930e-13 2.93561744e-08 9.77472681e-09 3.56056074e-09\n",
      "  4.58525165e-07 1.65380851e-11 3.28989769e-09 1.60281632e-11\n",
      "  3.08628039e-08 2.62531774e-09 1.67877517e-12 9.34390326e-12\n",
      "  2.49180711e-11 1.04496067e-09 2.53377549e-12 6.10196893e-11\n",
      "  1.61052682e-07 1.53924725e-12 1.67627316e-12 2.33967468e-12\n",
      "  5.34597977e-10 3.04605979e-10 1.54407633e-11 1.64198741e-11\n",
      "  3.67295272e-14 7.70943032e-12 1.46784307e-10 3.89038350e-11\n",
      "  3.67490283e-09 3.48649443e-10 5.38732947e-12 1.84463313e-11\n",
      "  2.65691250e-13 1.22327174e-11 2.89455931e-10 1.44764279e-11\n",
      "  5.20292750e-12 9.17366016e-10 9.39941902e-09 2.79497564e-10\n",
      "  4.21245067e-10 7.74943694e-13 2.54327574e-06 1.29988997e-08\n",
      "  1.33493028e-09 1.93347248e-11 4.20120956e-14 1.13829009e-10\n",
      "  1.05581988e-08 1.07359466e-12 1.58896576e-08 5.66032074e-12\n",
      "  1.22010879e-09 2.25559484e-06 2.94228747e-12 1.85178938e-11\n",
      "  2.65703459e-09 5.73468348e-08 7.98722755e-10 9.92565918e-10\n",
      "  1.42883899e-10 3.07236146e-11 7.20432780e-08 4.27809521e-09\n",
      "  2.99668346e-11 1.96768730e-12 6.55365952e-13 8.45755341e-11\n",
      "  7.02682649e-13 3.59938919e-11 8.65952643e-10 1.16512095e-11]]\n"
     ]
    }
   ],
   "source": [
    "predict()"
   ]
  },
  {
   "cell_type": "code",
   "execution_count": 47,
   "metadata": {},
   "outputs": [
    {
     "data": {
      "text/plain": [
       "<tf.Tensor: shape=(1, 196), dtype=float32, numpy=\n",
       "array([[0.0050577 , 0.0050577 , 0.00505788, 0.00505778, 0.01374748,\n",
       "        0.0050577 , 0.0050577 , 0.0050577 , 0.0050577 , 0.0050577 ,\n",
       "        0.0050577 , 0.0050577 , 0.0050577 , 0.0050577 , 0.00505771,\n",
       "        0.0050577 , 0.0050577 , 0.0050577 , 0.0050577 , 0.0050577 ,\n",
       "        0.0050577 , 0.0050577 , 0.0050577 , 0.0050577 , 0.0050577 ,\n",
       "        0.0050577 , 0.0050577 , 0.0050577 , 0.0050577 , 0.0050577 ,\n",
       "        0.0050577 , 0.0050577 , 0.0050577 , 0.0050577 , 0.0050577 ,\n",
       "        0.0050577 , 0.0050577 , 0.0050577 , 0.0050577 , 0.0050577 ,\n",
       "        0.0050577 , 0.0050577 , 0.0050577 , 0.0050577 , 0.0050577 ,\n",
       "        0.0050577 , 0.0050577 , 0.0050577 , 0.0050577 , 0.0050577 ,\n",
       "        0.0050577 , 0.0050577 , 0.0050577 , 0.0050577 , 0.0050577 ,\n",
       "        0.0050577 , 0.0050577 , 0.0050577 , 0.0050577 , 0.0050577 ,\n",
       "        0.0050577 , 0.0050577 , 0.0050577 , 0.0050577 , 0.0050577 ,\n",
       "        0.0050577 , 0.0050577 , 0.0050577 , 0.0050577 , 0.0050577 ,\n",
       "        0.0050577 , 0.0050577 , 0.0050577 , 0.0050577 , 0.0050577 ,\n",
       "        0.0050577 , 0.0050577 , 0.0050577 , 0.0050577 , 0.0050577 ,\n",
       "        0.0050577 , 0.0050577 , 0.0050577 , 0.0050577 , 0.0050577 ,\n",
       "        0.0050577 , 0.0050577 , 0.0050577 , 0.0050577 , 0.0050577 ,\n",
       "        0.0050577 , 0.0050577 , 0.0050577 , 0.0050577 , 0.0050577 ,\n",
       "        0.0050577 , 0.0050577 , 0.0050577 , 0.0050577 , 0.0050577 ,\n",
       "        0.0050577 , 0.0050577 , 0.0050577 , 0.0050577 , 0.0050577 ,\n",
       "        0.0050577 , 0.00505771, 0.0050577 , 0.0050577 , 0.0050577 ,\n",
       "        0.0050577 , 0.0050577 , 0.0050577 , 0.0050577 , 0.0050577 ,\n",
       "        0.0050577 , 0.0050577 , 0.0050577 , 0.0050577 , 0.0050577 ,\n",
       "        0.0050577 , 0.0050577 , 0.0050577 , 0.0050577 , 0.0050577 ,\n",
       "        0.0050577 , 0.0050577 , 0.0050577 , 0.00505771, 0.0050577 ,\n",
       "        0.0050577 , 0.0050577 , 0.0050577 , 0.0050577 , 0.0050577 ,\n",
       "        0.0050577 , 0.0050577 , 0.0050577 , 0.0050577 , 0.0050577 ,\n",
       "        0.0050577 , 0.0050577 , 0.0050577 , 0.0050577 , 0.0050577 ,\n",
       "        0.0050577 , 0.0050577 , 0.0050577 , 0.0050577 , 0.0050577 ,\n",
       "        0.0050577 , 0.0050577 , 0.0050577 , 0.0050577 , 0.0050577 ,\n",
       "        0.0050577 , 0.0050577 , 0.0050577 , 0.0050577 , 0.0050577 ,\n",
       "        0.0050577 , 0.0050577 , 0.0050577 , 0.0050577 , 0.0050577 ,\n",
       "        0.0050577 , 0.00505772, 0.0050577 , 0.0050577 , 0.0050577 ,\n",
       "        0.0050577 , 0.0050577 , 0.0050577 , 0.0050577 , 0.0050577 ,\n",
       "        0.0050577 , 0.0050577 , 0.00505772, 0.0050577 , 0.0050577 ,\n",
       "        0.0050577 , 0.0050577 , 0.0050577 , 0.0050577 , 0.0050577 ,\n",
       "        0.0050577 , 0.0050577 , 0.0050577 , 0.0050577 , 0.0050577 ,\n",
       "        0.0050577 , 0.0050577 , 0.0050577 , 0.0050577 , 0.0050577 ,\n",
       "        0.0050577 ]], dtype=float32)>"
      ]
     },
     "execution_count": 47,
     "metadata": {},
     "output_type": "execute_result"
    }
   ],
   "source": [
    "tf.nn.softmax(label)"
   ]
  },
  {
   "cell_type": "code",
   "execution_count": 45,
   "metadata": {},
   "outputs": [
    {
     "data": {
      "text/plain": [
       "'Acura TL Type-S 2008'"
      ]
     },
     "execution_count": 45,
     "metadata": {},
     "output_type": "execute_result"
    }
   ],
   "source": [
    "class_names[np.argmax(label)]"
   ]
  },
  {
   "cell_type": "code",
   "execution_count": 46,
   "metadata": {},
   "outputs": [
    {
     "data": {
      "text/plain": [
       "['AM General Hummer SUV 2000',\n",
       " 'Acura Integra Type R 2001',\n",
       " 'Acura RL Sedan 2012',\n",
       " 'Acura TL Sedan 2012',\n",
       " 'Acura TL Type-S 2008',\n",
       " 'Acura TSX Sedan 2012',\n",
       " 'Acura ZDX Hatchback 2012',\n",
       " 'Aston Martin V8 Vantage Convertible 2012',\n",
       " 'Aston Martin V8 Vantage Coupe 2012',\n",
       " 'Aston Martin Virage Convertible 2012',\n",
       " 'Aston Martin Virage Coupe 2012',\n",
       " 'Audi 100 Sedan 1994',\n",
       " 'Audi 100 Wagon 1994',\n",
       " 'Audi A5 Coupe 2012',\n",
       " 'Audi R8 Coupe 2012',\n",
       " 'Audi RS 4 Convertible 2008',\n",
       " 'Audi S4 Sedan 2007',\n",
       " 'Audi S4 Sedan 2012',\n",
       " 'Audi S5 Convertible 2012',\n",
       " 'Audi S5 Coupe 2012',\n",
       " 'Audi S6 Sedan 2011',\n",
       " 'Audi TT Hatchback 2011',\n",
       " 'Audi TT RS Coupe 2012',\n",
       " 'Audi TTS Coupe 2012',\n",
       " 'Audi V8 Sedan 1994',\n",
       " 'BMW 1 Series Convertible 2012',\n",
       " 'BMW 1 Series Coupe 2012',\n",
       " 'BMW 3 Series Sedan 2012',\n",
       " 'BMW 3 Series Wagon 2012',\n",
       " 'BMW 6 Series Convertible 2007',\n",
       " 'BMW ActiveHybrid 5 Sedan 2012',\n",
       " 'BMW M3 Coupe 2012',\n",
       " 'BMW M5 Sedan 2010',\n",
       " 'BMW M6 Convertible 2010',\n",
       " 'BMW X3 SUV 2012',\n",
       " 'BMW X5 SUV 2007',\n",
       " 'BMW X6 SUV 2012',\n",
       " 'BMW Z4 Convertible 2012',\n",
       " 'Bentley Arnage Sedan 2009',\n",
       " 'Bentley Continental Flying Spur Sedan 2007',\n",
       " 'Bentley Continental GT Coupe 2007',\n",
       " 'Bentley Continental GT Coupe 2012',\n",
       " 'Bentley Continental Supersports Conv. Convertible 2012',\n",
       " 'Bentley Mulsanne Sedan 2011',\n",
       " 'Bugatti Veyron 16.4 Convertible 2009',\n",
       " 'Bugatti Veyron 16.4 Coupe 2009',\n",
       " 'Buick Enclave SUV 2012',\n",
       " 'Buick Rainier SUV 2007',\n",
       " 'Buick Regal GS 2012',\n",
       " 'Buick Verano Sedan 2012',\n",
       " 'Cadillac CTS-V Sedan 2012',\n",
       " 'Cadillac Escalade EXT Crew Cab 2007',\n",
       " 'Cadillac SRX SUV 2012',\n",
       " 'Chevrolet Avalanche Crew Cab 2012',\n",
       " 'Chevrolet Camaro Convertible 2012',\n",
       " 'Chevrolet Cobalt SS 2010',\n",
       " 'Chevrolet Corvette Convertible 2012',\n",
       " 'Chevrolet Corvette Ron Fellows Edition Z06 2007',\n",
       " 'Chevrolet Corvette ZR1 2012',\n",
       " 'Chevrolet Express Cargo Van 2007',\n",
       " 'Chevrolet Express Van 2007',\n",
       " 'Chevrolet HHR SS 2010',\n",
       " 'Chevrolet Impala Sedan 2007',\n",
       " 'Chevrolet Malibu Hybrid Sedan 2010',\n",
       " 'Chevrolet Malibu Sedan 2007',\n",
       " 'Chevrolet Monte Carlo Coupe 2007',\n",
       " 'Chevrolet Silverado 1500 Classic Extended Cab 2007',\n",
       " 'Chevrolet Silverado 1500 Extended Cab 2012',\n",
       " 'Chevrolet Silverado 1500 Hybrid Crew Cab 2012',\n",
       " 'Chevrolet Silverado 1500 Regular Cab 2012',\n",
       " 'Chevrolet Silverado 2500HD Regular Cab 2012',\n",
       " 'Chevrolet Sonic Sedan 2012',\n",
       " 'Chevrolet Tahoe Hybrid SUV 2012',\n",
       " 'Chevrolet TrailBlazer SS 2009',\n",
       " 'Chevrolet Traverse SUV 2012',\n",
       " 'Chrysler 300 SRT-8 2010',\n",
       " 'Chrysler Aspen SUV 2009',\n",
       " 'Chrysler Crossfire Convertible 2008',\n",
       " 'Chrysler PT Cruiser Convertible 2008',\n",
       " 'Chrysler Sebring Convertible 2010',\n",
       " 'Chrysler Town and Country Minivan 2012',\n",
       " 'Daewoo Nubira Wagon 2002',\n",
       " 'Dodge Caliber Wagon 2007',\n",
       " 'Dodge Caliber Wagon 2012',\n",
       " 'Dodge Caravan Minivan 1997',\n",
       " 'Dodge Challenger SRT8 2011',\n",
       " 'Dodge Charger SRT-8 2009',\n",
       " 'Dodge Charger Sedan 2012',\n",
       " 'Dodge Dakota Club Cab 2007',\n",
       " 'Dodge Dakota Crew Cab 2010',\n",
       " 'Dodge Durango SUV 2007',\n",
       " 'Dodge Durango SUV 2012',\n",
       " 'Dodge Journey SUV 2012',\n",
       " 'Dodge Magnum Wagon 2008',\n",
       " 'Dodge Ram Pickup 3500 Crew Cab 2010',\n",
       " 'Dodge Ram Pickup 3500 Quad Cab 2009',\n",
       " 'Dodge Sprinter Cargo Van 2009',\n",
       " 'Eagle Talon Hatchback 1998',\n",
       " 'FIAT 500 Abarth 2012',\n",
       " 'FIAT 500 Convertible 2012',\n",
       " 'Ferrari 458 Italia Convertible 2012',\n",
       " 'Ferrari 458 Italia Coupe 2012',\n",
       " 'Ferrari California Convertible 2012',\n",
       " 'Ferrari FF Coupe 2012',\n",
       " 'Fisker Karma Sedan 2012',\n",
       " 'Ford E-Series Wagon Van 2012',\n",
       " 'Ford Edge SUV 2012',\n",
       " 'Ford Expedition EL SUV 2009',\n",
       " 'Ford F-150 Regular Cab 2007',\n",
       " 'Ford F-150 Regular Cab 2012',\n",
       " 'Ford F-450 Super Duty Crew Cab 2012',\n",
       " 'Ford Fiesta Sedan 2012',\n",
       " 'Ford Focus Sedan 2007',\n",
       " 'Ford Freestar Minivan 2007',\n",
       " 'Ford GT Coupe 2006',\n",
       " 'Ford Mustang Convertible 2007',\n",
       " 'Ford Ranger SuperCab 2011',\n",
       " 'GMC Acadia SUV 2012',\n",
       " 'GMC Canyon Extended Cab 2012',\n",
       " 'GMC Savana Van 2012',\n",
       " 'GMC Terrain SUV 2012',\n",
       " 'GMC Yukon Hybrid SUV 2012',\n",
       " 'Geo Metro Convertible 1993',\n",
       " 'HUMMER H2 SUT Crew Cab 2009',\n",
       " 'HUMMER H3T Crew Cab 2010',\n",
       " 'Honda Accord Coupe 2012',\n",
       " 'Honda Accord Sedan 2012',\n",
       " 'Honda Odyssey Minivan 2007',\n",
       " 'Honda Odyssey Minivan 2012',\n",
       " 'Hyundai Accent Sedan 2012',\n",
       " 'Hyundai Azera Sedan 2012',\n",
       " 'Hyundai Elantra Sedan 2007',\n",
       " 'Hyundai Elantra Touring Hatchback 2012',\n",
       " 'Hyundai Genesis Sedan 2012',\n",
       " 'Hyundai Santa Fe SUV 2012',\n",
       " 'Hyundai Sonata Hybrid Sedan 2012',\n",
       " 'Hyundai Sonata Sedan 2012',\n",
       " 'Hyundai Tucson SUV 2012',\n",
       " 'Hyundai Veloster Hatchback 2012',\n",
       " 'Hyundai Veracruz SUV 2012',\n",
       " 'Infiniti G Coupe IPL 2012',\n",
       " 'Infiniti QX56 SUV 2011',\n",
       " 'Isuzu Ascender SUV 2008',\n",
       " 'Jaguar XK XKR 2012',\n",
       " 'Jeep Compass SUV 2012',\n",
       " 'Jeep Grand Cherokee SUV 2012',\n",
       " 'Jeep Liberty SUV 2012',\n",
       " 'Jeep Patriot SUV 2012',\n",
       " 'Jeep Wrangler SUV 2012',\n",
       " 'Lamborghini Aventador Coupe 2012',\n",
       " 'Lamborghini Diablo Coupe 2001',\n",
       " 'Lamborghini Gallardo LP 570-4 Superleggera 2012',\n",
       " 'Lamborghini Reventon Coupe 2008',\n",
       " 'Land Rover LR2 SUV 2012',\n",
       " 'Land Rover Range Rover SUV 2012',\n",
       " 'Lincoln Town Car Sedan 2011',\n",
       " 'MINI Cooper Roadster Convertible 2012',\n",
       " 'Maybach Landaulet Convertible 2012',\n",
       " 'Mazda Tribute SUV 2011',\n",
       " 'McLaren MP4-12C Coupe 2012',\n",
       " 'Mercedes-Benz 300-Class Convertible 1993',\n",
       " 'Mercedes-Benz C-Class Sedan 2012',\n",
       " 'Mercedes-Benz E-Class Sedan 2012',\n",
       " 'Mercedes-Benz S-Class Sedan 2012',\n",
       " 'Mercedes-Benz SL-Class Coupe 2009',\n",
       " 'Mercedes-Benz Sprinter Van 2012',\n",
       " 'Mitsubishi Lancer Sedan 2012',\n",
       " 'Nissan 240SX Coupe 1998',\n",
       " 'Nissan Juke Hatchback 2012',\n",
       " 'Nissan Leaf Hatchback 2012',\n",
       " 'Nissan NV Passenger Van 2012',\n",
       " 'Plymouth Neon Coupe 1999',\n",
       " 'Porsche Panamera Sedan 2012',\n",
       " 'Ram C-V Cargo Van Minivan 2012',\n",
       " 'Rolls-Royce Ghost Sedan 2012',\n",
       " 'Rolls-Royce Phantom Drophead Coupe Convertible 2012',\n",
       " 'Rolls-Royce Phantom Sedan 2012',\n",
       " 'Scion xD Hatchback 2012',\n",
       " 'Spyker C8 Convertible 2009',\n",
       " 'Spyker C8 Coupe 2009',\n",
       " 'Suzuki Aerio Sedan 2007',\n",
       " 'Suzuki Kizashi Sedan 2012',\n",
       " 'Suzuki SX4 Hatchback 2012',\n",
       " 'Suzuki SX4 Sedan 2012',\n",
       " 'Tesla Model S Sedan 2012',\n",
       " 'Toyota 4Runner SUV 2012',\n",
       " 'Toyota Camry Sedan 2012',\n",
       " 'Toyota Corolla Sedan 2012',\n",
       " 'Toyota Sequoia SUV 2012',\n",
       " 'Volkswagen Beetle Hatchback 2012',\n",
       " 'Volkswagen Golf Hatchback 1991',\n",
       " 'Volkswagen Golf Hatchback 2012',\n",
       " 'Volvo 240 Sedan 1993',\n",
       " 'Volvo C30 Hatchback 2012',\n",
       " 'Volvo XC90 SUV 2007',\n",
       " 'smart fortwo Convertible 2012']"
      ]
     },
     "execution_count": 46,
     "metadata": {},
     "output_type": "execute_result"
    }
   ],
   "source": [
    "class_names"
   ]
  },
  {
   "cell_type": "code",
   "execution_count": null,
   "metadata": {},
   "outputs": [],
   "source": []
  }
 ],
 "metadata": {
  "kernelspec": {
   "display_name": "base",
   "language": "python",
   "name": "python3"
  },
  "language_info": {
   "codemirror_mode": {
    "name": "ipython",
    "version": 3
   },
   "file_extension": ".py",
   "mimetype": "text/x-python",
   "name": "python",
   "nbconvert_exporter": "python",
   "pygments_lexer": "ipython3",
   "version": "3.11.5"
  }
 },
 "nbformat": 4,
 "nbformat_minor": 2
}
